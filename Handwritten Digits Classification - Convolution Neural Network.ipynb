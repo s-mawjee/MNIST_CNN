{
 "cells": [
  {
   "cell_type": "markdown",
   "metadata": {},
   "source": [
    "# Handwritten Digits Classification - Convolution Neural Network"
   ]
  },
  {
   "cell_type": "markdown",
   "metadata": {},
   "source": [
    "## Dataset -Class Imbalanced MNIST\n",
    "The MNIST database is a set of handwritten digit images. The digits have been size-normalized and centered in a fixed-size image (28x28). For more information refer to: http://yann.lecun.com/exdb/mnist/. An altered MNIST dataset will be used for this experiment. This dataset will have an imbalance of classes."
   ]
  },
  {
   "cell_type": "code",
   "execution_count": 1,
   "metadata": {
    "collapsed": true
   },
   "outputs": [],
   "source": [
    "import helper\n",
    "import math\n",
    "import numpy as np\n",
    "import matplotlib.pyplot as plt\n",
    "from sklearn.metrics import classification_report,confusion_matrix\n",
    "%matplotlib inline"
   ]
  },
  {
   "cell_type": "code",
   "execution_count": 2,
   "metadata": {
    "collapsed": true
   },
   "outputs": [],
   "source": [
    "# Training Dataset\n",
    "training_image_set, training_label_set = helper.get_data_from_file(False)"
   ]
  },
  {
   "cell_type": "code",
   "execution_count": 3,
   "metadata": {},
   "outputs": [
    {
     "data": {
      "image/png": "[encoded data removed]",
      "text/plain": [
       "<matplotlib.figure.Figure at 0x7fed8c4d5eb8>"
      ]
     },
     "metadata": {},
     "output_type": "display_data"
    }
   ],
   "source": [
    "# Show examples\n",
    "helper.show_set_of_images(training_image_set, training_label_set)"
   ]
  },
  {
   "cell_type": "markdown",
   "metadata": {},
   "source": [
    "### Class Imbalance Visualisation\n",
    "It is clear that there is a Class Imbalance. Class 7, 8 and 9 have around 720 images, whereas the other Classes (1,2,3,4,5 and 6) have between 5600 to 6400 images. "
   ]
  },
  {
   "cell_type": "code",
   "execution_count": 4,
   "metadata": {},
   "outputs": [
    {
     "data": {
      "image/png": "[encoded data removed]",
      "text/plain": [
       "<matplotlib.figure.Figure at 0x7fed5bf8aa90>"
      ]
     },
     "metadata": {},
     "output_type": "display_data"
    }
   ],
   "source": [
    "# Class Imbalance Visualisation\n",
    "helper.plot_histogram(training_label_set, 'Class Imbalance - Training Set')"
   ]
  },
  {
   "cell_type": "code",
   "execution_count": 5,
   "metadata": {
    "collapsed": true
   },
   "outputs": [],
   "source": [
    "# Extracting a Validation Dataset from Training Dataset \n",
    "number_of_validation_images = math.floor(training_image_set.shape[0] * 0.10)\n",
    "\n",
    "validation_image_set = training_image_set[-number_of_validation_images:]\n",
    "training_image_set = training_image_set[:-number_of_validation_images]\n",
    "\n",
    "validation_label_set = training_label_set[-number_of_validation_images:]\n",
    "training_label_set = training_label_set[:-number_of_validation_images]"
   ]
  },
  {
   "cell_type": "code",
   "execution_count": 6,
   "metadata": {
    "collapsed": true
   },
   "outputs": [],
   "source": [
    "# Testing Dataset\n",
    "test_image_set, test_label_set = helper.get_data_from_file(True)"
   ]
  },
  {
   "cell_type": "markdown",
   "metadata": {},
   "source": [
    "## Convolution Neural Network - Using Keras with TensorFlow backend"
   ]
  },
  {
   "cell_type": "code",
   "execution_count": 7,
   "metadata": {},
   "outputs": [
    {
     "name": "stderr",
     "output_type": "stream",
     "text": [
      "Using TensorFlow backend.\n"
     ]
    }
   ],
   "source": [
    "import keras\n",
    "from keras.datasets import mnist\n",
    "from keras.models import Sequential \n",
    "from keras.layers import Dense, Dropout, Flatten, BatchNormalization, Conv2D, MaxPooling2D, Activation"
   ]
  },
  {
   "cell_type": "markdown",
   "metadata": {},
   "source": [
    "### Data Preparation"
   ]
  },
  {
   "cell_type": "markdown",
   "metadata": {},
   "source": [
    "Creating a large matrix containing all images (in a dataset). This will form the input for the model.  "
   ]
  },
  {
   "cell_type": "code",
   "execution_count": 8,
   "metadata": {
    "collapsed": true
   },
   "outputs": [],
   "source": [
    "img_rows, img_cols = 28, 28\n",
    "# Grayscale Image: 28 x 28 x 1\n",
    "input_shape = (img_rows, img_cols, 1)\n",
    "\n",
    "training_image_set = training_image_set.reshape(training_image_set.shape[0], img_rows, img_cols, 1)\n",
    "validation_image_set = validation_image_set.reshape(validation_image_set.shape[0], img_rows, img_cols, 1)\n",
    "test_image_set = test_image_set.reshape(test_image_set.shape[0], img_rows, img_cols, 1)\n",
    "\n",
    "# Normalise Image - pixel values to the range 0 and 1\n",
    "training_image_set /= 255\n",
    "validation_image_set /= 255\n",
    "test_image_set /= 255"
   ]
  },
  {
   "cell_type": "markdown",
   "metadata": {},
   "source": [
    "One-Hot Encoding for 10 classes (0 to 9) the Labels. This transforms the scalar label value into a 10 x 1 vector, containing a 1 at the index of the scalar value. For example if the scalar label value is 3 then the encoded result would be [0, 0, 0, 1, 0, 0, 0, 0, 0, 0]."
   ]
  },
  {
   "cell_type": "code",
   "execution_count": 9,
   "metadata": {
    "collapsed": true
   },
   "outputs": [],
   "source": [
    "# 0 to 9\n",
    "num_classes = 10\n",
    "\n",
    "# One-Hot Encoding of Labels\n",
    "training_label_set_encoded = keras.utils.to_categorical(training_label_set, num_classes)\n",
    "validation_label_set_encoded = keras.utils.to_categorical(validation_label_set, num_classes)\n",
    "test_label_set_encoded = keras.utils.to_categorical(test_label_set, num_classes)"
   ]
  },
  {
   "cell_type": "markdown",
   "metadata": {},
   "source": [
    "### Convolution Neural Network Model\n",
    "Convolutional neural network will be used in order to retain the image structure.\n",
    "\n",
    "The first hidden layer is a convolutional layer called a Convolution2D. The layer has 32 feature maps, with the size of 3×3 and a ReLu activation function. This is the input layer, expecting images with size of 28 x 28 x 1.\n",
    "\n",
    "Next, a convolutional layer. The layer has 64 feature maps, with the size of 3×3 and a ReLu activation function\n",
    "\n",
    "Next, a pooling layer that takes the max called MaxPooling2D. It is configured with a pool size of 2×2.\n",
    "\n",
    "The next layer is a regularization layer using dropout called Dropout. It is configured to randomly exclude 25% of neurons in the layer in order to reduce overfitting.\n",
    "\n",
    "Next, is a layer that converts the 2D matrix data to a vector called Flatten. It allows the output to be processed by standard(dense) fully connected layers.\n",
    "\n",
    "Next, a fully connected layer with 128 neurons and ReLu activation function.\n",
    "\n",
    "Next, a dropout layer, which will randomly exclude 25% neurons in the layer.\n",
    "\n",
    "Next, a Batch Normalisation Layer.\n",
    "\n",
    "Finally, the output layer has 10 neurons for the 10 classes and a Softmax activation function to output probability-like predictions for each class.\n",
    "\n",
    "Optimiser: ADADELTA: An Adaptive Learning Rate Method (https://arxiv.org/abs/1212.5701)"
   ]
  },
  {
   "cell_type": "code",
   "execution_count": 10,
   "metadata": {
    "collapsed": true
   },
   "outputs": [],
   "source": [
    "def build_model(input_shape, num_classes):\n",
    "    model = Sequential()\n",
    "    # 2D Convolutional Layer.\n",
    "    model.add(Conv2D(32, kernel_size=(3, 3), input_shape=input_shape, activation='relu'))\n",
    "    # 2D Convolutional Layer.\n",
    "    model.add(Conv2D(64, kernel_size=(3, 3), activation='relu'))\n",
    "    # 2D Max Pooling Layer\n",
    "    model.add(MaxPooling2D(pool_size=(2, 2)))\n",
    "    # Dropout Layer. Rate 25%\n",
    "    model.add(Dropout(0.25))\n",
    "    model.add(Flatten())\n",
    "    model.add(Dense(128, activation='relu'))\n",
    "    # Dropout Layer. Rate 50%\n",
    "    model.add(Dropout(0.25))\n",
    "    model.add(Dense(num_classes))\n",
    "    # Batch Normalisation\n",
    "    model.add(BatchNormalization())\n",
    "    model.add(Activation(\"softmax\"))\n",
    "    \n",
    "    model.compile(loss=keras.losses.categorical_crossentropy,optimizer=keras.optimizers.Adadelta(),metrics=['accuracy'])\n",
    "    return model"
   ]
  },
  {
   "cell_type": "code",
   "execution_count": 11,
   "metadata": {},
   "outputs": [
    {
     "name": "stdout",
     "output_type": "stream",
     "text": [
      "_________________________________________________________________\n",
      "Layer (type)                 Output Shape              Param #   \n",
      "=================================================================\n",
      "conv2d_1 (Conv2D)            (None, 26, 26, 32)        320       \n",
      "_________________________________________________________________\n",
      "conv2d_2 (Conv2D)            (None, 24, 24, 64)        18496     \n",
      "_________________________________________________________________\n",
      "max_pooling2d_1 (MaxPooling2 (None, 12, 12, 64)        0         \n",
      "_________________________________________________________________\n",
      "dropout_1 (Dropout)          (None, 12, 12, 64)        0         \n",
      "_________________________________________________________________\n",
      "flatten_1 (Flatten)          (None, 9216)              0         \n",
      "_________________________________________________________________\n",
      "dense_1 (Dense)              (None, 128)               1179776   \n",
      "_________________________________________________________________\n",
      "dropout_2 (Dropout)          (None, 128)               0         \n",
      "_________________________________________________________________\n",
      "dense_2 (Dense)              (None, 10)                1290      \n",
      "_________________________________________________________________\n",
      "batch_normalization_1 (Batch (None, 10)                40        \n",
      "_________________________________________________________________\n",
      "activation_1 (Activation)    (None, 10)                0         \n",
      "=================================================================\n",
      "Total params: 1,199,922\n",
      "Trainable params: 1,199,902\n",
      "Non-trainable params: 20\n",
      "_________________________________________________________________\n"
     ]
    }
   ],
   "source": [
    "model = build_model(input_shape, num_classes)\n",
    "model.summary()"
   ]
  },
  {
   "cell_type": "markdown",
   "metadata": {},
   "source": [
    "#### Train Model\n",
    "In order to manage the class imbalance, the model will be trained with a class weight used for scaling the loss function during training. The class weight can be calculated by taking the total number of images of a class divided by the total number of images in the training set. The dropout layers will also help with the imbalance by preventing the model to overfit on the training dataset."
   ]
  },
  {
   "cell_type": "code",
   "execution_count": 12,
   "metadata": {},
   "outputs": [
    {
     "name": "stdout",
     "output_type": "stream",
     "text": [
      "Train on 39800 samples, validate on 4422 samples\n",
      "Epoch 1/100\n",
      "39800/39800 [==============================] - 6s - loss: 0.1029 - acc: 0.8796 - val_loss: 1.4464 - val_acc: 0.9523\n",
      "Epoch 2/100\n",
      "39800/39800 [==============================] - 5s - loss: 0.0669 - acc: 0.9524 - val_loss: 0.6297 - val_acc: 0.9688\n",
      "Epoch 3/100\n",
      "39800/39800 [==============================] - 5s - loss: 0.0533 - acc: 0.9619 - val_loss: 0.3528 - val_acc: 0.9742\n",
      "Epoch 4/100\n",
      "39800/39800 [==============================] - 5s - loss: 0.0439 - acc: 0.9674 - val_loss: 0.2754 - val_acc: 0.9772\n",
      "Epoch 5/100\n",
      "39800/39800 [==============================] - 5s - loss: 0.0369 - acc: 0.9706 - val_loss: 0.2369 - val_acc: 0.9765\n",
      "Epoch 6/100\n",
      "39800/39800 [==============================] - 5s - loss: 0.0314 - acc: 0.9719 - val_loss: 0.2220 - val_acc: 0.9765\n",
      "Epoch 7/100\n",
      "39800/39800 [==============================] - 5s - loss: 0.0268 - acc: 0.9732 - val_loss: 0.2065 - val_acc: 0.9783\n",
      "Epoch 8/100\n",
      "39800/39800 [==============================] - 5s - loss: 0.0231 - acc: 0.9743 - val_loss: 0.1654 - val_acc: 0.9785\n",
      "Epoch 9/100\n",
      "39800/39800 [==============================] - 5s - loss: 0.0200 - acc: 0.9772 - val_loss: 0.1595 - val_acc: 0.9792\n",
      "Epoch 10/100\n",
      "39800/39800 [==============================] - 5s - loss: 0.0175 - acc: 0.9775 - val_loss: 0.1403 - val_acc: 0.9787\n",
      "Epoch 11/100\n",
      "39800/39800 [==============================] - 5s - loss: 0.0154 - acc: 0.9785 - val_loss: 0.1241 - val_acc: 0.9787\n",
      "Epoch 12/100\n",
      "39800/39800 [==============================] - 5s - loss: 0.0135 - acc: 0.9795 - val_loss: 0.1205 - val_acc: 0.9790\n",
      "Epoch 13/100\n",
      "39800/39800 [==============================] - 5s - loss: 0.0120 - acc: 0.9798 - val_loss: 0.1095 - val_acc: 0.9787\n",
      "Epoch 14/100\n",
      "39800/39800 [==============================] - 5s - loss: 0.0107 - acc: 0.9810 - val_loss: 0.1020 - val_acc: 0.9796\n",
      "Epoch 15/100\n",
      "39800/39800 [==============================] - 5s - loss: 0.0096 - acc: 0.9822 - val_loss: 0.0922 - val_acc: 0.9819\n",
      "Epoch 16/100\n",
      "39800/39800 [==============================] - 5s - loss: 0.0086 - acc: 0.9829 - val_loss: 0.0904 - val_acc: 0.9817\n",
      "Epoch 17/100\n",
      "39800/39800 [==============================] - 5s - loss: 0.0078 - acc: 0.9833 - val_loss: 0.0878 - val_acc: 0.9812\n",
      "Epoch 18/100\n",
      "39800/39800 [==============================] - 5s - loss: 0.0071 - acc: 0.9834 - val_loss: 0.0762 - val_acc: 0.9824\n",
      "Epoch 19/100\n",
      "39800/39800 [==============================] - 5s - loss: 0.0064 - acc: 0.9848 - val_loss: 0.0731 - val_acc: 0.9821\n",
      "Epoch 20/100\n",
      "39800/39800 [==============================] - 5s - loss: 0.0058 - acc: 0.9852 - val_loss: 0.0665 - val_acc: 0.9846\n",
      "Epoch 21/100\n",
      "39800/39800 [==============================] - 5s - loss: 0.0054 - acc: 0.9863 - val_loss: 0.0666 - val_acc: 0.9837\n",
      "Epoch 22/100\n",
      "39800/39800 [==============================] - 5s - loss: 0.0050 - acc: 0.9865 - val_loss: 0.0620 - val_acc: 0.9846\n",
      "Epoch 23/100\n",
      "39800/39800 [==============================] - 5s - loss: 0.0046 - acc: 0.9872 - val_loss: 0.0625 - val_acc: 0.9830\n",
      "Epoch 24/100\n",
      "39800/39800 [==============================] - 5s - loss: 0.0043 - acc: 0.9867 - val_loss: 0.0559 - val_acc: 0.9862\n",
      "Epoch 25/100\n",
      "39800/39800 [==============================] - 5s - loss: 0.0039 - acc: 0.9885 - val_loss: 0.0552 - val_acc: 0.9860\n",
      "Epoch 26/100\n",
      "39800/39800 [==============================] - 5s - loss: 0.0037 - acc: 0.9892 - val_loss: 0.0624 - val_acc: 0.9835\n",
      "Epoch 27/100\n",
      "39800/39800 [==============================] - 5s - loss: 0.0034 - acc: 0.9896 - val_loss: 0.0546 - val_acc: 0.9860\n",
      "Epoch 28/100\n",
      "39800/39800 [==============================] - 5s - loss: 0.0032 - acc: 0.9893 - val_loss: 0.0501 - val_acc: 0.9869\n",
      "Epoch 29/100\n",
      "39800/39800 [==============================] - 5s - loss: 0.0030 - acc: 0.9894 - val_loss: 0.0473 - val_acc: 0.9871\n",
      "Epoch 30/100\n",
      "39800/39800 [==============================] - 5s - loss: 0.0028 - acc: 0.9904 - val_loss: 0.0494 - val_acc: 0.9862\n",
      "Epoch 31/100\n",
      "39800/39800 [==============================] - 5s - loss: 0.0027 - acc: 0.9905 - val_loss: 0.0489 - val_acc: 0.9855\n",
      "Epoch 32/100\n",
      "39800/39800 [==============================] - 5s - loss: 0.0025 - acc: 0.9909 - val_loss: 0.0463 - val_acc: 0.9864\n",
      "Epoch 33/100\n",
      "39800/39800 [==============================] - 5s - loss: 0.0024 - acc: 0.9914 - val_loss: 0.0458 - val_acc: 0.9869\n",
      "Epoch 34/100\n",
      "39800/39800 [==============================] - 5s - loss: 0.0022 - acc: 0.9915 - val_loss: 0.0434 - val_acc: 0.9878\n",
      "Epoch 35/100\n",
      "39800/39800 [==============================] - 5s - loss: 0.0021 - acc: 0.9921 - val_loss: 0.0421 - val_acc: 0.9871\n",
      "Epoch 36/100\n",
      "39800/39800 [==============================] - 5s - loss: 0.0021 - acc: 0.9920 - val_loss: 0.0442 - val_acc: 0.9864\n",
      "Epoch 37/100\n",
      "39800/39800 [==============================] - 5s - loss: 0.0019 - acc: 0.9928 - val_loss: 0.0407 - val_acc: 0.9878\n",
      "Epoch 38/100\n",
      "39800/39800 [==============================] - 5s - loss: 0.0018 - acc: 0.9925 - val_loss: 0.0408 - val_acc: 0.9873\n",
      "Epoch 39/100\n",
      "39800/39800 [==============================] - 5s - loss: 0.0018 - acc: 0.9926 - val_loss: 0.0392 - val_acc: 0.9878\n",
      "Epoch 40/100\n",
      "39800/39800 [==============================] - 5s - loss: 0.0017 - acc: 0.9933 - val_loss: 0.0385 - val_acc: 0.9885\n",
      "Epoch 41/100\n",
      "39800/39800 [==============================] - 5s - loss: 0.0017 - acc: 0.9936 - val_loss: 0.0379 - val_acc: 0.9885\n",
      "Epoch 42/100\n",
      "39800/39800 [==============================] - 5s - loss: 0.0016 - acc: 0.9940 - val_loss: 0.0403 - val_acc: 0.9871\n",
      "Epoch 43/100\n",
      "39800/39800 [==============================] - 5s - loss: 0.0016 - acc: 0.9938 - val_loss: 0.0382 - val_acc: 0.9876\n",
      "Epoch 44/100\n",
      "39800/39800 [==============================] - 5s - loss: 0.0014 - acc: 0.9938 - val_loss: 0.0363 - val_acc: 0.9885\n",
      "Epoch 45/100\n",
      "39800/39800 [==============================] - 5s - loss: 0.0014 - acc: 0.9944 - val_loss: 0.0378 - val_acc: 0.9885\n",
      "Epoch 46/100\n",
      "39800/39800 [==============================] - 5s - loss: 0.0013 - acc: 0.9944 - val_loss: 0.0349 - val_acc: 0.9885\n",
      "Epoch 47/100\n",
      "39800/39800 [==============================] - 5s - loss: 0.0013 - acc: 0.9948 - val_loss: 0.0376 - val_acc: 0.9880\n",
      "Epoch 48/100\n",
      "39800/39800 [==============================] - 5s - loss: 0.0013 - acc: 0.9949 - val_loss: 0.0369 - val_acc: 0.9887\n",
      "Epoch 49/100\n",
      "39800/39800 [==============================] - 5s - loss: 0.0011 - acc: 0.9949 - val_loss: 0.0378 - val_acc: 0.9882\n",
      "Epoch 50/100\n",
      "39800/39800 [==============================] - 5s - loss: 0.0012 - acc: 0.9948 - val_loss: 0.0355 - val_acc: 0.9887\n",
      "Epoch 51/100\n",
      "39800/39800 [==============================] - 5s - loss: 0.0011 - acc: 0.9954 - val_loss: 0.0354 - val_acc: 0.9896\n",
      "Epoch 52/100\n",
      "39800/39800 [==============================] - 5s - loss: 0.0011 - acc: 0.9954 - val_loss: 0.0363 - val_acc: 0.9891\n",
      "Epoch 53/100\n",
      "39800/39800 [==============================] - 5s - loss: 0.0010 - acc: 0.9955 - val_loss: 0.0326 - val_acc: 0.9896\n",
      "Epoch 54/100\n",
      "39800/39800 [==============================] - 5s - loss: 0.0010 - acc: 0.9960 - val_loss: 0.0364 - val_acc: 0.9887\n",
      "Epoch 55/100\n",
      "39800/39800 [==============================] - 5s - loss: 0.0010 - acc: 0.9957 - val_loss: 0.0351 - val_acc: 0.9885\n",
      "Epoch 56/100\n",
      "39800/39800 [==============================] - 5s - loss: 0.0010 - acc: 0.9956 - val_loss: 0.0339 - val_acc: 0.9896\n",
      "Epoch 57/100\n",
      "39800/39800 [==============================] - 5s - loss: 9.4623e-04 - acc: 0.9963 - val_loss: 0.0335 - val_acc: 0.9889\n",
      "Epoch 58/100\n",
      "39800/39800 [==============================] - 5s - loss: 8.9609e-04 - acc: 0.9966 - val_loss: 0.0334 - val_acc: 0.9896\n",
      "Epoch 59/100\n",
      "39800/39800 [==============================] - 5s - loss: 9.4614e-04 - acc: 0.9960 - val_loss: 0.0325 - val_acc: 0.9891\n",
      "Epoch 60/100\n",
      "39800/39800 [==============================] - 5s - loss: 8.6021e-04 - acc: 0.9962 - val_loss: 0.0338 - val_acc: 0.9891\n",
      "Epoch 61/100\n",
      "39800/39800 [==============================] - 5s - loss: 8.2561e-04 - acc: 0.9962 - val_loss: 0.0323 - val_acc: 0.9891\n",
      "Epoch 62/100\n",
      "39800/39800 [==============================] - 5s - loss: 8.6369e-04 - acc: 0.9965 - val_loss: 0.0323 - val_acc: 0.9896\n",
      "Epoch 63/100\n",
      "39800/39800 [==============================] - 5s - loss: 7.9272e-04 - acc: 0.9964 - val_loss: 0.0315 - val_acc: 0.9896\n",
      "Epoch 64/100\n",
      "39800/39800 [==============================] - 5s - loss: 8.0408e-04 - acc: 0.9964 - val_loss: 0.0325 - val_acc: 0.9894\n",
      "Epoch 65/100\n",
      "39800/39800 [==============================] - 5s - loss: 7.6612e-04 - acc: 0.9966 - val_loss: 0.0337 - val_acc: 0.9889\n",
      "Epoch 66/100\n",
      "39800/39800 [==============================] - 5s - loss: 7.7355e-04 - acc: 0.9966 - val_loss: 0.0308 - val_acc: 0.9896\n",
      "Epoch 67/100\n",
      "39800/39800 [==============================] - 5s - loss: 7.4700e-04 - acc: 0.9969 - val_loss: 0.0327 - val_acc: 0.9887\n",
      "Epoch 68/100\n",
      "39800/39800 [==============================] - 5s - loss: 7.2131e-04 - acc: 0.9968 - val_loss: 0.0313 - val_acc: 0.9896\n",
      "Epoch 69/100\n",
      "39800/39800 [==============================] - 5s - loss: 7.2765e-04 - acc: 0.9968 - val_loss: 0.0310 - val_acc: 0.9896\n",
      "Epoch 70/100\n",
      "39800/39800 [==============================] - 5s - loss: 7.3053e-04 - acc: 0.9969 - val_loss: 0.0302 - val_acc: 0.9900\n",
      "Epoch 71/100\n",
      "39800/39800 [==============================] - 5s - loss: 6.9027e-04 - acc: 0.9969 - val_loss: 0.0313 - val_acc: 0.9900\n",
      "Epoch 72/100\n",
      "39800/39800 [==============================] - 5s - loss: 6.7881e-04 - acc: 0.9971 - val_loss: 0.0301 - val_acc: 0.9905\n",
      "Epoch 73/100\n",
      "39800/39800 [==============================] - 5s - loss: 6.5133e-04 - acc: 0.9972 - val_loss: 0.0291 - val_acc: 0.9914\n",
      "Epoch 74/100\n",
      "39800/39800 [==============================] - 5s - loss: 6.4574e-04 - acc: 0.9975 - val_loss: 0.0301 - val_acc: 0.9903\n",
      "Epoch 75/100\n",
      "39800/39800 [==============================] - 5s - loss: 6.2744e-04 - acc: 0.9973 - val_loss: 0.0288 - val_acc: 0.9914\n",
      "Epoch 76/100\n",
      "39800/39800 [==============================] - 5s - loss: 6.7279e-04 - acc: 0.9973 - val_loss: 0.0308 - val_acc: 0.9898\n",
      "Epoch 77/100\n",
      "39800/39800 [==============================] - 5s - loss: 6.4809e-04 - acc: 0.9971 - val_loss: 0.0306 - val_acc: 0.9905\n",
      "Epoch 78/100\n",
      "39800/39800 [==============================] - 5s - loss: 6.4481e-04 - acc: 0.9972 - val_loss: 0.0308 - val_acc: 0.9907\n",
      "Epoch 79/100\n",
      "39800/39800 [==============================] - 5s - loss: 6.0419e-04 - acc: 0.9975 - val_loss: 0.0302 - val_acc: 0.9907\n",
      "Epoch 80/100\n",
      "39800/39800 [==============================] - 5s - loss: 5.8801e-04 - acc: 0.9977 - val_loss: 0.0295 - val_acc: 0.9910\n",
      "Epoch 81/100\n",
      "39800/39800 [==============================] - 5s - loss: 5.3602e-04 - acc: 0.9976 - val_loss: 0.0294 - val_acc: 0.9916\n",
      "Epoch 82/100\n",
      "39800/39800 [==============================] - 5s - loss: 5.8359e-04 - acc: 0.9978 - val_loss: 0.0303 - val_acc: 0.9903\n",
      "Epoch 83/100\n",
      "39800/39800 [==============================] - 5s - loss: 5.4650e-04 - acc: 0.9978 - val_loss: 0.0311 - val_acc: 0.9898\n",
      "Epoch 84/100\n",
      "39800/39800 [==============================] - 5s - loss: 5.1466e-04 - acc: 0.9977 - val_loss: 0.0303 - val_acc: 0.9907\n",
      "Epoch 85/100\n",
      "39800/39800 [==============================] - 5s - loss: 5.3796e-04 - acc: 0.9977 - val_loss: 0.0296 - val_acc: 0.9903\n",
      "Epoch 86/100\n",
      "39800/39800 [==============================] - 5s - loss: 4.9793e-04 - acc: 0.9979 - val_loss: 0.0292 - val_acc: 0.9914\n",
      "Epoch 87/100\n",
      "39800/39800 [==============================] - 5s - loss: 5.2320e-04 - acc: 0.9981 - val_loss: 0.0284 - val_acc: 0.9912\n",
      "Epoch 88/100\n",
      "39800/39800 [==============================] - 5s - loss: 4.8818e-04 - acc: 0.9982 - val_loss: 0.0303 - val_acc: 0.9910\n",
      "Epoch 89/100\n",
      "39800/39800 [==============================] - 5s - loss: 4.9631e-04 - acc: 0.9980 - val_loss: 0.0312 - val_acc: 0.9896\n",
      "Epoch 90/100\n",
      "39800/39800 [==============================] - 5s - loss: 4.8032e-04 - acc: 0.9982 - val_loss: 0.0306 - val_acc: 0.9910\n",
      "Epoch 91/100\n",
      "39800/39800 [==============================] - 5s - loss: 5.1125e-04 - acc: 0.9982 - val_loss: 0.0296 - val_acc: 0.9907\n",
      "Epoch 92/100\n",
      "39800/39800 [==============================] - 5s - loss: 4.9187e-04 - acc: 0.9980 - val_loss: 0.0295 - val_acc: 0.9905\n",
      "Epoch 93/100\n",
      "39800/39800 [==============================] - 5s - loss: 4.5838e-04 - acc: 0.9981 - val_loss: 0.0300 - val_acc: 0.9907\n",
      "Epoch 94/100\n",
      "39800/39800 [==============================] - 5s - loss: 4.6457e-04 - acc: 0.9983 - val_loss: 0.0288 - val_acc: 0.9900\n",
      "Epoch 95/100\n",
      "39800/39800 [==============================] - 5s - loss: 4.6953e-04 - acc: 0.9981 - val_loss: 0.0285 - val_acc: 0.9907\n",
      "Epoch 96/100\n",
      "39800/39800 [==============================] - 5s - loss: 4.7062e-04 - acc: 0.9982 - val_loss: 0.0316 - val_acc: 0.9903\n",
      "Epoch 97/100\n",
      "39800/39800 [==============================] - 5s - loss: 4.2890e-04 - acc: 0.9984 - val_loss: 0.0278 - val_acc: 0.9916\n",
      "Epoch 98/100\n",
      "39800/39800 [==============================] - 5s - loss: 4.4135e-04 - acc: 0.9983 - val_loss: 0.0291 - val_acc: 0.9910\n",
      "Epoch 99/100\n",
      "39800/39800 [==============================] - 5s - loss: 4.6068e-04 - acc: 0.9978 - val_loss: 0.0281 - val_acc: 0.9914\n",
      "Epoch 100/100\n",
      "39800/39800 [==============================] - 5s - loss: 4.4065e-04 - acc: 0.9981 - val_loss: 0.0279 - val_acc: 0.9910\n"
     ]
    }
   ],
   "source": [
    "batch_size = 256\n",
    "epochs = 100\n",
    "class_weight_list = np.histogram(training_label_set, bins = [0,1,2,3,4,5,6,7,8,9,10], normed = True)[0]\n",
    "class_weight = {}\n",
    "for i in range(len(class_weight_list)):\n",
    "    class_weight[i] = class_weight_list[i]\n",
    "training_results = model.fit(training_image_set, training_label_set_encoded,\n",
    "          batch_size=batch_size,\n",
    "          epochs=epochs,\n",
    "          verbose=1,\n",
    "          class_weight = class_weight,\n",
    "          validation_data=(validation_image_set, validation_label_set_encoded))"
   ]
  },
  {
   "cell_type": "code",
   "execution_count": 13,
   "metadata": {},
   "outputs": [
    {
     "data": {
      "image/png": "[encoded data removed]",
      "text/plain": [
       "<matplotlib.figure.Figure at 0x7fed28662c18>"
      ]
     },
     "metadata": {},
     "output_type": "display_data"
    },
    {
     "data": {
      "image/png": "[encoded data removed]",
      "text/plain": [
       "<matplotlib.figure.Figure at 0x7fed5bf2f2b0>"
      ]
     },
     "metadata": {},
     "output_type": "display_data"
    }
   ],
   "source": [
    "# plot model accuracy vs epoch \n",
    "plt.plot(training_results.history['acc'])\n",
    "plt.plot(training_results.history['val_acc'])\n",
    "plt.title('Model accuracy')\n",
    "plt.ylabel('accuracy')\n",
    "plt.xlabel('epoch')\n",
    "plt.legend(['train', 'validation'], loc='upper left')\n",
    "plt.show()\n",
    "# plot model loss vs epoch\n",
    "plt.plot(training_results.history['loss'])\n",
    "plt.plot(training_results.history['val_loss'])\n",
    "plt.title('Model loss')\n",
    "plt.ylabel('loss')\n",
    "plt.xlabel('epoch')\n",
    "plt.legend(['train', 'validation'], loc='upper left')\n",
    "plt.show()"
   ]
  },
  {
   "cell_type": "markdown",
   "metadata": {},
   "source": [
    "#### Model Evaluation"
   ]
  },
  {
   "cell_type": "code",
   "execution_count": 14,
   "metadata": {},
   "outputs": [
    {
     "name": "stdout",
     "output_type": "stream",
     "text": [
      " 9952/10000 [============================>.] - ETA: 0s\n",
      "Test loss: 0.0659347217605\n",
      "Test accuracy: 0.9796\n",
      " 9696/10000 [============================>.] - ETA: 0s\n",
      "             precision    recall  f1-score   support\n",
      "\n",
      "          0       0.98      1.00      0.99       980\n",
      "          1       0.98      1.00      0.99      1135\n",
      "          2       0.96      1.00      0.98      1032\n",
      "          3       0.97      1.00      0.98      1010\n",
      "          4       0.96      0.99      0.98       982\n",
      "          5       0.97      0.99      0.98       892\n",
      "          6       0.99      0.99      0.99       958\n",
      "          7       1.00      0.94      0.97      1028\n",
      "          8       1.00      0.96      0.98       974\n",
      "          9       0.99      0.93      0.96      1009\n",
      "\n",
      "avg / total       0.98      0.98      0.98     10000\n",
      "\n"
     ]
    }
   ],
   "source": [
    "score = model.evaluate(test_image_set, test_label_set_encoded, verbose=1)\n",
    "print('')\n",
    "print('Test loss:', score[0])\n",
    "print('Test accuracy:', score[1])\n",
    "test_prediction_label = model.predict_classes(test_image_set)\n",
    "print('')\n",
    "target_names = ['0', '1', '2', '3', '4', '5', '6', '7', '8', '9']\n",
    "print(classification_report(np.argmax(test_label_set_encoded,axis=1), test_prediction_label,target_names=target_names))"
   ]
  },
  {
   "cell_type": "markdown",
   "metadata": {},
   "source": [
    "#### Confusion matrix"
   ]
  },
  {
   "cell_type": "code",
   "execution_count": 15,
   "metadata": {},
   "outputs": [
    {
     "name": "stdout",
     "output_type": "stream",
     "text": [
      "Confusion matrix\n",
      "[[ 978    0    0    1    0    0    1    0    0    0]\n",
      " [   0 1133    1    1    0    0    0    0    0    0]\n",
      " [   1    1 1029    0    1    0    0    0    0    0]\n",
      " [   0    0    1 1007    0    1    0    0    1    0]\n",
      " [   0    0    0    0  977    0    4    0    0    1]\n",
      " [   1    0    1    7    0  882    1    0    0    0]\n",
      " [   6    2    0    1    1    2  946    0    0    0]\n",
      " [   2   10   33    5    7    0    0  968    0    3]\n",
      " [   8    1   10    2    9    3    3    2  935    1]\n",
      " [   4    4    1   16   20   21    0    1    1  941]]\n",
      "Confusion matrix (Normalised)\n",
      "[[ 1.    0.    0.    0.    0.    0.    0.    0.    0.    0.  ]\n",
      " [ 0.    1.    0.    0.    0.    0.    0.    0.    0.    0.  ]\n",
      " [ 0.    0.    1.    0.    0.    0.    0.    0.    0.    0.  ]\n",
      " [ 0.    0.    0.    1.    0.    0.    0.    0.    0.    0.  ]\n",
      " [ 0.    0.    0.    0.    0.99  0.    0.    0.    0.    0.  ]\n",
      " [ 0.    0.    0.    0.01  0.    0.99  0.    0.    0.    0.  ]\n",
      " [ 0.01  0.    0.    0.    0.    0.    0.99  0.    0.    0.  ]\n",
      " [ 0.    0.01  0.03  0.    0.01  0.    0.    0.94  0.    0.  ]\n",
      " [ 0.01  0.    0.01  0.    0.01  0.    0.    0.    0.96  0.  ]\n",
      " [ 0.    0.    0.    0.02  0.02  0.02  0.    0.    0.    0.93]]\n"
     ]
    },
    {
     "data": {
      "image/png": "[encoded data removed]",
      "text/plain": [
       "<matplotlib.figure.Figure at 0x7fed5bf9b1d0>"
      ]
     },
     "metadata": {},
     "output_type": "display_data"
    },
    {
     "data": {
      "image/png": "[encoded data removed]",
      "text/plain": [
       "<matplotlib.figure.Figure at 0x7fed286626d8>"
      ]
     },
     "metadata": {},
     "output_type": "display_data"
    }
   ],
   "source": [
    "cnf_matrix = confusion_matrix(np.argmax(test_label_set_encoded,axis=1), test_prediction_label)\n",
    "\n",
    "# Plot non-normalized confusion matrix\n",
    "plt.figure()\n",
    "helper.plot_confusion_matrix(cnf_matrix)\n",
    "\n",
    "# Plot normalized confusion matrix\n",
    "plt.figure()\n",
    "helper.plot_confusion_matrix(cnf_matrix, normalise=True)\n",
    "\n",
    "plt.show()"
   ]
  },
  {
   "cell_type": "code",
   "execution_count": null,
   "metadata": {
    "collapsed": true
   },
   "outputs": [],
   "source": []
  }
 ],
 "metadata": {
  "anaconda-cloud": {},
  "kernelspec": {
   "display_name": "Python 3",
   "language": "python",
   "name": "python3"
  },
  "language_info": {
   "codemirror_mode": {
    "name": "ipython",
    "version": 3
   },
   "file_extension": ".py",
   "mimetype": "text/x-python",
   "name": "python",
   "nbconvert_exporter": "python",
   "pygments_lexer": "ipython3",
   "version": "3.5.3"
  }
 },
 "nbformat": 4,
 "nbformat_minor": 1
}
